{
  "cells": [
    {
      "cell_type": "code",
      "execution_count": null,
      "metadata": {
        "colab": {
          "base_uri": "https://localhost:8080/"
        },
        "id": "Nc-giFZwsLbD",
        "outputId": "313a7b46-c9cc-4ad4-f94f-202833a696cb"
      },
      "outputs": [
        {
          "metadata": {
            "tags": null
          },
          "name": "stdout",
          "output_type": "stream",
          "text": [
            "•1 Espresso $1.500 ,cantidad:0\n",
            "•2 Capuchino $1.800,cantidad:0\n",
            "•3 Latte $1.600,cantidad:0\n",
            "•4 Moca $1.700,cantidad:0\n",
            "•5 Reset\n",
            "•OTRO = Salir\n",
            "•1 Espresso $1.500 ,cantidad:1\n",
            "•2 Capuchino $1.800,cantidad:0\n",
            "•3 Latte $1.600,cantidad:0\n",
            "•4 Moca $1.700,cantidad:0\n",
            "•5 Reset\n",
            "•OTRO = Salir\n",
            "•1 Espresso $1.500 ,cantidad:2\n",
            "•2 Capuchino $1.800,cantidad:0\n",
            "•3 Latte $1.600,cantidad:0\n",
            "•4 Moca $1.700,cantidad:0\n",
            "•5 Reset\n",
            "•OTRO = Salir\n"
          ]
        }
      ],
      "source": [
        "def suma_coffee(a, b):\n",
        "  suma = a + b\n",
        "  return(suma)\n",
        "\n",
        "ppedido = 0\n",
        "opcion = 0\n",
        "espresso_cantidad = 0\n",
        "capuchino_cantidad = 0\n",
        "latte_cantidad = 0\n",
        "moca_cantidad = 0\n",
        "espresso_total = 0\n",
        "capuchino_total = 0\n",
        "latte_total = 0\n",
        "moca_total = 0\n",
        "uno =1\n",
        "while (opcion <= 6) and (opcion >=0):\n",
        "      print(f\"•1 Espresso $1.500 ,cantidad:{espresso_cantidad}\\n•2 Capuchino $1.800,cantidad:{capuchino_cantidad}\\n•3 Latte $1.600,cantidad:{latte_cantidad}\\n•4 Moca $1.700,cantidad:{moca_cantidad}\\n•5 Reset\\n•OTRO = Salir\")\n",
        "      opcion = int(input(\"Elija entre las siguientes opciones \"))\n",
        "      if opcion == 1:\n",
        "          espresso_cantidad = suma_coffee(espresso_cantidad,uno)\n",
        "      elif opcion == 2:\n",
        "          capuchino_cantidad = suma_coffee(capuchino_cantidad,uno)\n",
        "      elif opcion == 3:\n",
        "          latte_cantidad = suma_coffee(latte_cantidad,uno)\n",
        "      elif opcion == 4:\n",
        "          moca_cantidad = suma_coffee(moca_cantidad,uno)\n",
        "      else:\n",
        "          espresso_cantidad = espresso_cantidad * 0\n",
        "          latte_cantidad = latte_cantidad * 0\n",
        "          capuchino_cantidad = capuchino_cantidad * 0\n",
        "          moca_cantidad = moca_cantidad * 0\n",
        "          opcion = 0"
      ]
    },
    {
      "cell_type": "code",
      "source": [
        "   def suma_espresso(espresso):\n",
        "\n",
        "    opcion = 0\n",
        "    espresso_cantidad = 0\n",
        "    capuchino_cantidad = 0\n",
        "    latte_cantidad = 0\n",
        "    moca_cantidad = 0\n",
        "    espresso_total = 0\n",
        "    capuchino_total = 0\n",
        "    latte_total = 0\n",
        "    moca_total = 0\n",
        "\n",
        "\n",
        "    while (opcion <= 6) and (opcion >=0):\n",
        "        print(f\"•1 Espresso $1.500 ,cantidad:{espresso_cantidad}\\n•2 Capuchino $1.800,cantidad:{capuchino_cantidad}\\n•3 Latte $1.600,cantidad:{latte_cantidad}\\n•4 Moca $1.700,cantidad:{moca_cantidad}\\n•5 Reset\\n•OTRO = Salir\")\n",
        "        opcion = int(input(\"Elija entre las siguientes opciones \"))\n",
        "        if opcion == 1:\n",
        "            espresso_cantidad + 1\n",
        "        elif opcion == 2:\n",
        "            capuchino_cantidad =+1\n",
        "        elif opcion == 3:\n",
        "            latte_cantidad =+1\n",
        "        elif opcion == 4:\n",
        "            moca_cantidad =+1\n",
        "        else:\n",
        "            espresso_cantidad = espresso_cantidad * 0\n",
        "            latte_cantidad = latte_cantidad * 0\n",
        "            capuchino_cantidad = capuchino_cantidad * 0\n",
        "            moca_cantidad = moca_cantidad * 0\n",
        "            opcion = 0"
      ],
      "metadata": {
        "colab": {
          "base_uri": "https://localhost:8080/",
          "height": 501
        },
        "id": "dePZaStu3-TH",
        "outputId": "67883944-cfc4-4a1d-a636-fe3ec6e0676d"
      },
      "execution_count": null,
      "outputs": [
        {
          "output_type": "stream",
          "name": "stdout",
          "text": [
            "•1 Espresso $1.500 ,cantidad:0\n",
            "•2 Capuchino $1.800,cantidad:0\n",
            "•3 Latte $1.600,cantidad:0\n",
            "•4 Moca $1.700,cantidad:0\n",
            "•5 Reset\n",
            "•OTRO = Salir\n"
          ]
        },
        {
          "output_type": "error",
          "ename": "KeyboardInterrupt",
          "evalue": "ignored",
          "traceback": [
            "\u001b[0;31m---------------------------------------------------------------------------\u001b[0m",
            "\u001b[0;31mKeyboardInterrupt\u001b[0m                         Traceback (most recent call last)",
            "\u001b[0;32m<ipython-input-14-c2ea257fe916>\u001b[0m in \u001b[0;36m<cell line: 10>\u001b[0;34m()\u001b[0m\n\u001b[1;32m     10\u001b[0m \u001b[0;32mwhile\u001b[0m \u001b[0;34m(\u001b[0m\u001b[0mopcion\u001b[0m \u001b[0;34m<=\u001b[0m \u001b[0;36m6\u001b[0m\u001b[0;34m)\u001b[0m \u001b[0;32mand\u001b[0m \u001b[0;34m(\u001b[0m\u001b[0mopcion\u001b[0m \u001b[0;34m>=\u001b[0m\u001b[0;36m0\u001b[0m\u001b[0;34m)\u001b[0m\u001b[0;34m:\u001b[0m\u001b[0;34m\u001b[0m\u001b[0;34m\u001b[0m\u001b[0m\n\u001b[1;32m     11\u001b[0m     \u001b[0mprint\u001b[0m\u001b[0;34m(\u001b[0m\u001b[0;34mf\"•1 Espresso $1.500 ,cantidad:{espresso_cantidad}\\n•2 Capuchino $1.800,cantidad:{capuchino_cantidad}\\n•3 Latte $1.600,cantidad:{latte_cantidad}\\n•4 Moca $1.700,cantidad:{moca_cantidad}\\n•5 Reset\\n•OTRO = Salir\"\u001b[0m\u001b[0;34m)\u001b[0m\u001b[0;34m\u001b[0m\u001b[0;34m\u001b[0m\u001b[0m\n\u001b[0;32m---> 12\u001b[0;31m     \u001b[0mopcion\u001b[0m \u001b[0;34m=\u001b[0m \u001b[0mint\u001b[0m\u001b[0;34m(\u001b[0m\u001b[0minput\u001b[0m\u001b[0;34m(\u001b[0m\u001b[0;34m\"Elija entre las siguientes opciones \"\u001b[0m\u001b[0;34m)\u001b[0m\u001b[0;34m)\u001b[0m\u001b[0;34m\u001b[0m\u001b[0;34m\u001b[0m\u001b[0m\n\u001b[0m\u001b[1;32m     13\u001b[0m     \u001b[0;32mif\u001b[0m \u001b[0mopcion\u001b[0m \u001b[0;34m==\u001b[0m \u001b[0;36m1\u001b[0m\u001b[0;34m:\u001b[0m\u001b[0;34m\u001b[0m\u001b[0;34m\u001b[0m\u001b[0m\n\u001b[1;32m     14\u001b[0m         \u001b[0mespresso_cantidad\u001b[0m \u001b[0;34m+\u001b[0m \u001b[0;36m1\u001b[0m\u001b[0;34m\u001b[0m\u001b[0;34m\u001b[0m\u001b[0m\n",
            "\u001b[0;32m/usr/local/lib/python3.10/dist-packages/ipykernel/kernelbase.py\u001b[0m in \u001b[0;36mraw_input\u001b[0;34m(self, prompt)\u001b[0m\n\u001b[1;32m    849\u001b[0m                 \u001b[0;34m\"raw_input was called, but this frontend does not support input requests.\"\u001b[0m\u001b[0;34m\u001b[0m\u001b[0;34m\u001b[0m\u001b[0m\n\u001b[1;32m    850\u001b[0m             )\n\u001b[0;32m--> 851\u001b[0;31m         return self._input_request(str(prompt),\n\u001b[0m\u001b[1;32m    852\u001b[0m             \u001b[0mself\u001b[0m\u001b[0;34m.\u001b[0m\u001b[0m_parent_ident\u001b[0m\u001b[0;34m,\u001b[0m\u001b[0;34m\u001b[0m\u001b[0;34m\u001b[0m\u001b[0m\n\u001b[1;32m    853\u001b[0m             \u001b[0mself\u001b[0m\u001b[0;34m.\u001b[0m\u001b[0m_parent_header\u001b[0m\u001b[0;34m,\u001b[0m\u001b[0;34m\u001b[0m\u001b[0;34m\u001b[0m\u001b[0m\n",
            "\u001b[0;32m/usr/local/lib/python3.10/dist-packages/ipykernel/kernelbase.py\u001b[0m in \u001b[0;36m_input_request\u001b[0;34m(self, prompt, ident, parent, password)\u001b[0m\n\u001b[1;32m    893\u001b[0m             \u001b[0;32mexcept\u001b[0m \u001b[0mKeyboardInterrupt\u001b[0m\u001b[0;34m:\u001b[0m\u001b[0;34m\u001b[0m\u001b[0;34m\u001b[0m\u001b[0m\n\u001b[1;32m    894\u001b[0m                 \u001b[0;31m# re-raise KeyboardInterrupt, to truncate traceback\u001b[0m\u001b[0;34m\u001b[0m\u001b[0;34m\u001b[0m\u001b[0m\n\u001b[0;32m--> 895\u001b[0;31m                 \u001b[0;32mraise\u001b[0m \u001b[0mKeyboardInterrupt\u001b[0m\u001b[0;34m(\u001b[0m\u001b[0;34m\"Interrupted by user\"\u001b[0m\u001b[0;34m)\u001b[0m \u001b[0;32mfrom\u001b[0m \u001b[0;32mNone\u001b[0m\u001b[0;34m\u001b[0m\u001b[0;34m\u001b[0m\u001b[0m\n\u001b[0m\u001b[1;32m    896\u001b[0m             \u001b[0;32mexcept\u001b[0m \u001b[0mException\u001b[0m \u001b[0;32mas\u001b[0m \u001b[0me\u001b[0m\u001b[0;34m:\u001b[0m\u001b[0;34m\u001b[0m\u001b[0;34m\u001b[0m\u001b[0m\n\u001b[1;32m    897\u001b[0m                 \u001b[0mself\u001b[0m\u001b[0;34m.\u001b[0m\u001b[0mlog\u001b[0m\u001b[0;34m.\u001b[0m\u001b[0mwarning\u001b[0m\u001b[0;34m(\u001b[0m\u001b[0;34m\"Invalid Message:\"\u001b[0m\u001b[0;34m,\u001b[0m \u001b[0mexc_info\u001b[0m\u001b[0;34m=\u001b[0m\u001b[0;32mTrue\u001b[0m\u001b[0;34m)\u001b[0m\u001b[0;34m\u001b[0m\u001b[0;34m\u001b[0m\u001b[0m\n",
            "\u001b[0;31mKeyboardInterrupt\u001b[0m: Interrupted by user"
          ]
        }
      ]
    },
    {
      "cell_type": "code",
      "execution_count": null,
      "metadata": {
        "colab": {
          "base_uri": "https://localhost:8080/"
        },
        "id": "5nkQ1HzW0NA8",
        "outputId": "0bebacbf-69be-41a4-9741-e4acf37d3b60"
      },
      "outputs": [
        {
          "name": "stdout",
          "output_type": "stream",
          "text": [
            "11\n",
            "1\n"
          ]
        }
      ],
      "source": [
        " pepe=0\n",
        " accion =int(input())\n",
        " if accion >= 0:\n",
        "     pepe=+1\n",
        "     print(pepe)"
      ]
    }
  ],
  "metadata": {
    "colab": {
      "provenance": []
    },
    "kernelspec": {
      "display_name": "Python 3",
      "name": "python3"
    },
    "language_info": {
      "name": "python"
    }
  },
  "nbformat": 4,
  "nbformat_minor": 0
}