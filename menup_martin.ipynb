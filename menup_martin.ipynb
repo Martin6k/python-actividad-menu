{
  "nbformat": 4,
  "nbformat_minor": 0,
  "metadata": {
    "colab": {
      "provenance": []
    },
    "kernelspec": {
      "name": "python3",
      "display_name": "Python 3"
    },
    "language_info": {
      "name": "python"
    }
  },
  "cells": [
    {
      "cell_type": "code",
      "execution_count": null,
      "metadata": {
        "colab": {
          "base_uri": "https://localhost:8080/"
        },
        "id": "Nc-giFZwsLbD",
        "outputId": "b513b6af-6f0b-4307-ee05-781b470f453d"
      },
      "outputs": [
        {
          "output_type": "stream",
          "name": "stdout",
          "text": [
            "•1 Espresso $1.500 ,cantidad:0\n",
            "•2 Capuchino $1.800,cantidad:0\n",
            "•3 Latte $1.600,cantidad:0\n",
            "•4 Moca $1.700,cantidad:0\n",
            "•5 Reset\n",
            "•OTRO = Salir\n",
            "Elija entre las siguientes opciones 2\n",
            "•1 Espresso $1.500 ,cantidad:0\n",
            "•2 Capuchino $1.800,cantidad:1\n",
            "•3 Latte $1.600,cantidad:0\n",
            "•4 Moca $1.700,cantidad:0\n",
            "•5 Reset\n",
            "•OTRO = Salir\n",
            "Elija entre las siguientes opciones 5\n",
            "•1 Espresso $1.500 ,cantidad:0\n",
            "•2 Capuchino $1.800,cantidad:0\n",
            "•3 Latte $1.600,cantidad:0\n",
            "•4 Moca $1.700,cantidad:0\n",
            "•5 Reset\n",
            "•OTRO = Salir\n"
          ]
        }
      ],
      "source": [
        "opcion = 0\n",
        "espresso_cantidad = 0\n",
        "capuchino_cantidad = 0\n",
        "latte_cantidad = 0\n",
        "moca_cantidad = 0\n",
        "espresso_total = 0\n",
        "capuchino_total = 0\n",
        "latte_total = 0\n",
        "moca_total = 0\n",
        "\n",
        "while (opcion <= 6) and (opcion >=0):\n",
        "    print(f\"•1 Espresso $1.500 ,cantidad:{espresso_cantidad}\\n•2 Capuchino $1.800,cantidad:{capuchino_cantidad}\\n•3 Latte $1.600,cantidad:{latte_cantidad}\\n•4 Moca $1.700,cantidad:{moca_cantidad}\\n•5 Reset\\n•OTRO = Salir\")\n",
        "    opcion = int(input(\"Elija entre las siguientes opciones \"))\n",
        "    if opcion == 1:\n",
        "        espresso_cantidad =+1\n",
        "    elif opcion == 2:\n",
        "        capuchino_cantidad =+1\n",
        "    elif opcion == 3:\n",
        "        latte_cantidad =+1\n",
        "    elif opcion == 4:\n",
        "        moca_cantidad =+1\n",
        "    else:\n",
        "          espresso_cantidad = espresso_cantidad * 0\n",
        "          latte_cantidad = latte_cantidad * 0\n",
        "          capuchino_cantidad = capuchino_cantidad * 0\n",
        "          moca_cantidad = moca_cantidad * 0\n",
        "          opcion = 0"
      ]
    }
  ]
}